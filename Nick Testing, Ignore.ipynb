{
 "cells": [
  {
   "cell_type": "code",
   "execution_count": 50,
   "id": "copyrighted-optics",
   "metadata": {},
   "outputs": [],
   "source": [
    "import sqlite3 as sql\n",
    "import pandas as pd\n",
    "import matplotlib.pyplot as plt"
   ]
  },
  {
   "cell_type": "code",
   "execution_count": 25,
   "id": "extra-medicare",
   "metadata": {},
   "outputs": [],
   "source": [
    "Code = \"AB123\"\n",
    "con = sql.connect('database.db') #connect to the database\n",
    "        \n",
    "Frame = pd.read_sql_query(\"SELECT * from feedback\",con) #Database to Pandas\n",
    "Frame = Frame[Frame['classCode']== Code] #Filter Database by class code"
   ]
  },
  {
   "cell_type": "code",
   "execution_count": 26,
   "id": "absent-industry",
   "metadata": {},
   "outputs": [
    {
     "name": "stdout",
     "output_type": "stream",
     "text": [
      "   id        date      time classCode studentCode  emoji  \\\n",
      "0   8  2021-01-19  03:29 PM     AB123          55      4   \n",
      "\n",
      "        elaborateNumber elaborateText  \n",
      "0  Instructor/Professor         apple  \n"
     ]
    }
   ],
   "source": [
    "print(Frame)"
   ]
  },
  {
   "cell_type": "code",
   "execution_count": 27,
   "id": "leading-access",
   "metadata": {},
   "outputs": [
    {
     "data": {
      "text/plain": [
       "1"
      ]
     },
     "execution_count": 27,
     "metadata": {},
     "output_type": "execute_result"
    }
   ],
   "source": [
    "len(Frame.index)"
   ]
  },
  {
   "cell_type": "code",
   "execution_count": 52,
   "id": "systematic-thumbnail",
   "metadata": {},
   "outputs": [
    {
     "data": {
      "image/png": "[encoded data removed]",
      "text/plain": [
       "<Figure size 432x288 with 1 Axes>"
      ]
     },
     "metadata": {
      "needs_background": "light"
     },
     "output_type": "display_data"
    }
   ],
   "source": [
    "Frame['emoji'].hist()\n",
    "plt.title('Category')\n",
    "plt.xlabel('Score')\n",
    "plt.show()"
   ]
  },
  {
   "cell_type": "code",
   "execution_count": null,
   "id": "silent-theology",
   "metadata": {},
   "outputs": [],
   "source": []
  }
 ],
 "metadata": {
  "kernelspec": {
   "display_name": "Python 3",
   "language": "python",
   "name": "python3"
  },
  "language_info": {
   "codemirror_mode": {
    "name": "ipython",
    "version": 3
   },
   "file_extension": ".py",
   "mimetype": "text/x-python",
   "name": "python",
   "nbconvert_exporter": "python",
   "pygments_lexer": "ipython3",
   "version": "3.8.5"
  }
 },
 "nbformat": 4,
 "nbformat_minor": 5
}
