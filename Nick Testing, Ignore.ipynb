{
 "cells": [
  {
   "cell_type": "code",
   "execution_count": 1,
   "id": "dense-structure",
   "metadata": {},
   "outputs": [],
   "source": [
    "import sqlite3 as sql\n",
    "import pandas as pd"
   ]
  },
  {
   "cell_type": "code",
   "execution_count": 4,
   "id": "reflected-victorian",
   "metadata": {},
   "outputs": [],
   "source": [
    "Code = \"XXX\"\n",
    "con = sql.connect('database.db') #connect to the database\n",
    "        \n",
    "Frame = pd.read_sql_query(\"SELECT * from feedback\",con) #Database to Pandas\n",
    "Frame = Frame[Frame['classCode']== Code] #Filter Database by class code"
   ]
  },
  {
   "cell_type": "code",
   "execution_count": 5,
   "id": "familiar-twist",
   "metadata": {},
   "outputs": [
    {
     "name": "stdout",
     "output_type": "stream",
     "text": [
      "Empty DataFrame\n",
      "Columns: [id, date, time, classCode, studentCode, emoji, elaborateNumber, elaborateText]\n",
      "Index: []\n"
     ]
    }
   ],
   "source": [
    "print(Frame)"
   ]
  },
  {
   "cell_type": "code",
   "execution_count": 8,
   "id": "decimal-receiver",
   "metadata": {},
   "outputs": [
    {
     "name": "stdout",
     "output_type": "stream",
     "text": [
      "Hi\n"
     ]
    }
   ],
   "source": [
    "if(Frame.empty):\n",
    "    print(\"Hi\")"
   ]
  },
  {
   "cell_type": "code",
   "execution_count": null,
   "id": "identified-federal",
   "metadata": {},
   "outputs": [],
   "source": []
  },
  {
   "cell_type": "code",
   "execution_count": null,
   "id": "sufficient-clause",
   "metadata": {},
   "outputs": [],
   "source": []
  }
 ],
 "metadata": {
  "kernelspec": {
   "display_name": "Python 3",
   "language": "python",
   "name": "python3"
  },
  "language_info": {
   "codemirror_mode": {
    "name": "ipython",
    "version": 3
   },
   "file_extension": ".py",
   "mimetype": "text/x-python",
   "name": "python",
   "nbconvert_exporter": "python",
   "pygments_lexer": "ipython3",
   "version": "3.8.5"
  }
 },
 "nbformat": 4,
 "nbformat_minor": 5
}
