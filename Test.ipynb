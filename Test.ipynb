{
 "cells": [
  {
   "cell_type": "code",
   "execution_count": 1,
   "id": "fleet-salvation",
   "metadata": {},
   "outputs": [],
   "source": [
    "import pandas as pd\n",
    "from flask import Flask, render_template, request, redirect, url_for, make_response\n",
    "from models import create_post, get_posts, delete_posts\n",
    "from datetime import date, datetime\n",
    "import time\n",
    "import matplotlib.pyplot as plt\n",
    "import pandas as pd\n",
    "import sqlite3 as sql\n",
    "\n",
    "from matplotlib.backends.backend_agg import FigureCanvasAgg as FigureCanvas\n",
    "from matplotlib.figure import Figure\n",
    "import io"
   ]
  },
  {
   "cell_type": "code",
   "execution_count": 21,
   "id": "plain-patient",
   "metadata": {},
   "outputs": [],
   "source": [
    "    classCode = \"AB123\"\n",
    "    Category = 'Instructor/Professor'\n",
    "    con = sql.connect('database.db') # connect to the database\n",
    "    Frame = pd.read_sql_query(\"SELECT * from feedback\", con)  # Database to Pandas\n",
    "    Frame = Frame[Frame['classCode'] == classCode]\n",
    "    Frame = Frame[Frame['elaborateNumber']==\"Instructor/Professor\"]\n",
    "    Frame = Frame['emoji']"
   ]
  },
  {
   "cell_type": "code",
   "execution_count": 19,
   "id": "specific-annex",
   "metadata": {},
   "outputs": [
    {
     "data": {
      "text/plain": [
       "1      True\n",
       "4     False\n",
       "5     False\n",
       "6     False\n",
       "7      True\n",
       "8     False\n",
       "9     False\n",
       "10     True\n",
       "11    False\n",
       "12     True\n",
       "13     True\n",
       "14    False\n",
       "Name: emoji, dtype: bool"
      ]
     },
     "execution_count": 19,
     "metadata": {},
     "output_type": "execute_result"
    }
   ],
   "source": [
    "Frame = Frame==5\n",
    "Frame"
   ]
  },
  {
   "cell_type": "code",
   "execution_count": 20,
   "id": "proud-survey",
   "metadata": {},
   "outputs": [
    {
     "data": {
      "text/plain": [
       "5"
      ]
     },
     "execution_count": 20,
     "metadata": {},
     "output_type": "execute_result"
    }
   ],
   "source": [
    "Frame.sum()"
   ]
  },
  {
   "cell_type": "code",
   "execution_count": 22,
   "id": "wrapped-warner",
   "metadata": {},
   "outputs": [],
   "source": [
    " x = [1,2,3,4,5]\n",
    "y = [Frame[Frame==1].sum(),Frame[Frame==2].sum(),Frame[Frame==3].sum(),Frame[Frame==4].sum(),Frame[Frame==5].sum()]"
   ]
  },
  {
   "cell_type": "code",
   "execution_count": 37,
   "id": "cosmetic-provincial",
   "metadata": {},
   "outputs": [
    {
     "data": {
      "text/plain": [
       "<BarContainer object of 5 artists>"
      ]
     },
     "execution_count": 37,
     "metadata": {},
     "output_type": "execute_result"
    },
    {
     "data": {
      "image/png": "[encoded data removed]",
      "text/plain": [
       "<Figure size 432x288 with 1 Axes>"
      ]
     },
     "metadata": {
      "needs_background": "light"
     },
     "output_type": "display_data"
    }
   ],
   "source": [
    "    classCode = \"AB123\"\n",
    "    Category = 'Instructor/Professor'\n",
    "    con = sql.connect('database.db') # connect to the database\n",
    "    Frame = pd.read_sql_query(\"SELECT * from feedback\", con)  # Database to Pandas\n",
    "    Frame = Frame[Frame['classCode'] == classCode]\n",
    "    Frame = Frame[Frame['elaborateNumber']==\"Instructor/Professor\"]\n",
    "    Frame=Frame['emoji']\n",
    "    x = [1,2,3,4,5]\n",
    "    y = [Frame[Frame==1].count(), Frame[Frame==2].count(), Frame[Frame==3].count(), Frame[Frame==4].count(), Frame[Frame==5].count()]\n",
    "    plt.bar(x,y)"
   ]
  },
  {
   "cell_type": "code",
   "execution_count": 30,
   "id": "loved-event",
   "metadata": {},
   "outputs": [
    {
     "data": {
      "text/plain": [
       "5"
      ]
     },
     "execution_count": 30,
     "metadata": {},
     "output_type": "execute_result"
    }
   ],
   "source": [
    "len(x)"
   ]
  },
  {
   "cell_type": "code",
   "execution_count": 31,
   "id": "stone-julian",
   "metadata": {},
   "outputs": [
    {
     "data": {
      "text/plain": [
       "5"
      ]
     },
     "execution_count": 31,
     "metadata": {},
     "output_type": "execute_result"
    }
   ],
   "source": [
    "len(y)"
   ]
  },
  {
   "cell_type": "code",
   "execution_count": 34,
   "id": "lesser-anger",
   "metadata": {},
   "outputs": [
    {
     "name": "stdout",
     "output_type": "stream",
     "text": [
      "[1, 6, 3, 8, 25]\n"
     ]
    }
   ],
   "source": [
    "print(y)"
   ]
  },
  {
   "cell_type": "code",
   "execution_count": 36,
   "id": "spiritual-gamma",
   "metadata": {},
   "outputs": [
    {
     "data": {
      "text/plain": [
       "5"
      ]
     },
     "execution_count": 36,
     "metadata": {},
     "output_type": "execute_result"
    }
   ],
   "source": [
    "Frame[Frame==5].count()"
   ]
  },
  {
   "cell_type": "code",
   "execution_count": null,
   "id": "solar-turkey",
   "metadata": {},
   "outputs": [],
   "source": []
  }
 ],
 "metadata": {
  "kernelspec": {
   "display_name": "Python 3",
   "language": "python",
   "name": "python3"
  },
  "language_info": {
   "codemirror_mode": {
    "name": "ipython",
    "version": 3
   },
   "file_extension": ".py",
   "mimetype": "text/x-python",
   "name": "python",
   "nbconvert_exporter": "python",
   "pygments_lexer": "ipython3",
   "version": "3.8.5"
  }
 },
 "nbformat": 4,
 "nbformat_minor": 5
}
